{
 "cells": [
  {
   "cell_type": "code",
   "execution_count": 1,
   "id": "179a0a88-8bc5-47ec-a5a7-4b77a8c205d1",
   "metadata": {},
   "outputs": [],
   "source": [
    "import pandas as pd"
   ]
  },
  {
   "cell_type": "code",
   "execution_count": 54,
   "id": "ee888dd9-9839-4ace-92a3-04f7d2bccfbb",
   "metadata": {},
   "outputs": [],
   "source": [
    "movies = pd.read_csv(r'myMovies.csv',index_col=0)"
   ]
  },
  {
   "cell_type": "code",
   "execution_count": 55,
   "id": "9ece30c8-85ba-439d-be50-b6734e8aec7f",
   "metadata": {},
   "outputs": [
    {
     "data": {
      "text/html": [
       "<div>\n",
       "<style scoped>\n",
       "    .dataframe tbody tr th:only-of-type {\n",
       "        vertical-align: middle;\n",
       "    }\n",
       "\n",
       "    .dataframe tbody tr th {\n",
       "        vertical-align: top;\n",
       "    }\n",
       "\n",
       "    .dataframe thead th {\n",
       "        text-align: right;\n",
       "    }\n",
       "</style>\n",
       "<table border=\"1\" class=\"dataframe\">\n",
       "  <thead>\n",
       "    <tr style=\"text-align: right;\">\n",
       "      <th></th>\n",
       "      <th>Name</th>\n",
       "      <th>Industry</th>\n",
       "      <th>Genre</th>\n",
       "      <th>Language</th>\n",
       "      <th>Duration</th>\n",
       "      <th>Rating</th>\n",
       "    </tr>\n",
       "    <tr>\n",
       "      <th>ID</th>\n",
       "      <th></th>\n",
       "      <th></th>\n",
       "      <th></th>\n",
       "      <th></th>\n",
       "      <th></th>\n",
       "      <th></th>\n",
       "    </tr>\n",
       "  </thead>\n",
       "  <tbody>\n",
       "    <tr>\n",
       "      <th>1</th>\n",
       "      <td>Bahubali</td>\n",
       "      <td>Tollywood</td>\n",
       "      <td>Action</td>\n",
       "      <td>Telugu</td>\n",
       "      <td>170</td>\n",
       "      <td>9.5</td>\n",
       "    </tr>\n",
       "    <tr>\n",
       "      <th>2</th>\n",
       "      <td>Brahmastra</td>\n",
       "      <td>Bollywood</td>\n",
       "      <td>Mysterious</td>\n",
       "      <td>Hindi</td>\n",
       "      <td>180</td>\n",
       "      <td>5.0</td>\n",
       "    </tr>\n",
       "    <tr>\n",
       "      <th>3</th>\n",
       "      <td>Uri- The Surgical Strike</td>\n",
       "      <td>Bollywood</td>\n",
       "      <td>Action</td>\n",
       "      <td>Hindi</td>\n",
       "      <td>120</td>\n",
       "      <td>10.0</td>\n",
       "    </tr>\n",
       "    <tr>\n",
       "      <th>4</th>\n",
       "      <td>DDLJ</td>\n",
       "      <td>Bollywood</td>\n",
       "      <td>Romantic</td>\n",
       "      <td>Hindi</td>\n",
       "      <td>150</td>\n",
       "      <td>10.0</td>\n",
       "    </tr>\n",
       "    <tr>\n",
       "      <th>5</th>\n",
       "      <td>Avengers-Endgame</td>\n",
       "      <td>Hollywood</td>\n",
       "      <td>Action</td>\n",
       "      <td>English</td>\n",
       "      <td>180</td>\n",
       "      <td>9.0</td>\n",
       "    </tr>\n",
       "    <tr>\n",
       "      <th>6</th>\n",
       "      <td>Tenet</td>\n",
       "      <td>Hollywood</td>\n",
       "      <td>SciFi</td>\n",
       "      <td>English</td>\n",
       "      <td>150</td>\n",
       "      <td>8.5</td>\n",
       "    </tr>\n",
       "    <tr>\n",
       "      <th>7</th>\n",
       "      <td>Major</td>\n",
       "      <td>Bollywood</td>\n",
       "      <td>Action</td>\n",
       "      <td>Hindi</td>\n",
       "      <td>140</td>\n",
       "      <td>8.0</td>\n",
       "    </tr>\n",
       "    <tr>\n",
       "      <th>8</th>\n",
       "      <td>Intersteller</td>\n",
       "      <td>Hollywood</td>\n",
       "      <td>SciFi</td>\n",
       "      <td>English</td>\n",
       "      <td>190</td>\n",
       "      <td>7.0</td>\n",
       "    </tr>\n",
       "    <tr>\n",
       "      <th>9</th>\n",
       "      <td>Gravity</td>\n",
       "      <td>Hollywood</td>\n",
       "      <td>SciFi</td>\n",
       "      <td>English</td>\n",
       "      <td>130</td>\n",
       "      <td>6.0</td>\n",
       "    </tr>\n",
       "    <tr>\n",
       "      <th>10</th>\n",
       "      <td>Titanic</td>\n",
       "      <td>Hollywood</td>\n",
       "      <td>Drama</td>\n",
       "      <td>English</td>\n",
       "      <td>180</td>\n",
       "      <td>9.0</td>\n",
       "    </tr>\n",
       "    <tr>\n",
       "      <th>11</th>\n",
       "      <td>Yeh Jawani Hai Divani</td>\n",
       "      <td>Bollywood</td>\n",
       "      <td>Romantic</td>\n",
       "      <td>Hindi</td>\n",
       "      <td>150</td>\n",
       "      <td>5.0</td>\n",
       "    </tr>\n",
       "    <tr>\n",
       "      <th>12</th>\n",
       "      <td>Houseful</td>\n",
       "      <td>Bollywood</td>\n",
       "      <td>Comedy</td>\n",
       "      <td>Hindi</td>\n",
       "      <td>150</td>\n",
       "      <td>6.0</td>\n",
       "    </tr>\n",
       "    <tr>\n",
       "      <th>13</th>\n",
       "      <td>The Dictator</td>\n",
       "      <td>Hollywood</td>\n",
       "      <td>Comedy</td>\n",
       "      <td>English</td>\n",
       "      <td>120</td>\n",
       "      <td>7.0</td>\n",
       "    </tr>\n",
       "    <tr>\n",
       "      <th>14</th>\n",
       "      <td>Hera Pheri</td>\n",
       "      <td>Bollywood</td>\n",
       "      <td>Comedy</td>\n",
       "      <td>Hindi</td>\n",
       "      <td>140</td>\n",
       "      <td>9.0</td>\n",
       "    </tr>\n",
       "    <tr>\n",
       "      <th>15</th>\n",
       "      <td>Sholay</td>\n",
       "      <td>Bollywood</td>\n",
       "      <td>Drama</td>\n",
       "      <td>Hindi</td>\n",
       "      <td>150</td>\n",
       "      <td>8.5</td>\n",
       "    </tr>\n",
       "  </tbody>\n",
       "</table>\n",
       "</div>"
      ],
      "text/plain": [
       "                        Name   Industry       Genre Language  Duration  Rating\n",
       "ID                                                                            \n",
       "1                   Bahubali  Tollywood      Action   Telugu       170     9.5\n",
       "2                 Brahmastra  Bollywood  Mysterious    Hindi       180     5.0\n",
       "3   Uri- The Surgical Strike  Bollywood      Action    Hindi       120    10.0\n",
       "4                       DDLJ  Bollywood    Romantic    Hindi       150    10.0\n",
       "5           Avengers-Endgame  Hollywood      Action  English       180     9.0\n",
       "6                      Tenet  Hollywood       SciFi  English       150     8.5\n",
       "7                      Major  Bollywood      Action    Hindi       140     8.0\n",
       "8               Intersteller  Hollywood       SciFi  English       190     7.0\n",
       "9                    Gravity  Hollywood       SciFi  English       130     6.0\n",
       "10                   Titanic  Hollywood       Drama  English       180     9.0\n",
       "11     Yeh Jawani Hai Divani  Bollywood    Romantic    Hindi       150     5.0\n",
       "12                  Houseful  Bollywood      Comedy    Hindi       150     6.0\n",
       "13              The Dictator  Hollywood      Comedy  English       120     7.0\n",
       "14                Hera Pheri  Bollywood      Comedy    Hindi       140     9.0\n",
       "15                    Sholay  Bollywood       Drama    Hindi       150     8.5"
      ]
     },
     "execution_count": 55,
     "metadata": {},
     "output_type": "execute_result"
    }
   ],
   "source": [
    "movies"
   ]
  },
  {
   "cell_type": "markdown",
   "id": "f4209c2a-6b03-4908-9967-255f6ab01b7c",
   "metadata": {},
   "source": [
    "# Find the longest movie name"
   ]
  },
  {
   "cell_type": "code",
   "execution_count": 4,
   "id": "a7cf2cef-993f-439f-bb43-5a8da0d106f5",
   "metadata": {},
   "outputs": [
    {
     "data": {
      "text/plain": [
       "7"
      ]
     },
     "execution_count": 4,
     "metadata": {},
     "output_type": "execute_result"
    }
   ],
   "source": [
    "movies['Duration'].argmax()"
   ]
  },
  {
   "cell_type": "code",
   "execution_count": 5,
   "id": "78725b61-7e77-4322-8403-814a8f68823b",
   "metadata": {},
   "outputs": [
    {
     "data": {
      "text/plain": [
       "'Intersteller'"
      ]
     },
     "execution_count": 5,
     "metadata": {},
     "output_type": "execute_result"
    }
   ],
   "source": [
    "movies['Name'][7]"
   ]
  },
  {
   "cell_type": "code",
   "execution_count": 6,
   "id": "5c7044ad-1e07-48c4-83ee-02ec7e958a36",
   "metadata": {},
   "outputs": [
    {
     "data": {
      "text/plain": [
       "'Intersteller'"
      ]
     },
     "execution_count": 6,
     "metadata": {},
     "output_type": "execute_result"
    }
   ],
   "source": [
    "movies['Name'][movies['Duration'].argmax()]"
   ]
  },
  {
   "cell_type": "markdown",
   "id": "2d7dd7e7-3f72-4d10-a212-908ea78c537c",
   "metadata": {},
   "source": [
    "# Number of movies who got 10 rating"
   ]
  },
  {
   "cell_type": "code",
   "execution_count": 7,
   "id": "7fff697f-c49c-40bd-970d-e06acc1b3f86",
   "metadata": {},
   "outputs": [
    {
     "data": {
      "text/plain": [
       "2"
      ]
     },
     "execution_count": 7,
     "metadata": {},
     "output_type": "execute_result"
    }
   ],
   "source": [
    "sum(movies['Rating']==10)"
   ]
  },
  {
   "cell_type": "markdown",
   "id": "303ce099-12ee-4a47-8ba9-a13b9faf78b4",
   "metadata": {},
   "source": [
    "# How many industries are there"
   ]
  },
  {
   "cell_type": "code",
   "execution_count": 8,
   "id": "a6fc1109-803c-4f11-9a8a-ca5e2f570800",
   "metadata": {},
   "outputs": [
    {
     "data": {
      "text/plain": [
       "3"
      ]
     },
     "execution_count": 8,
     "metadata": {},
     "output_type": "execute_result"
    }
   ],
   "source": [
    "movies['Industry'].value_counts().count()"
   ]
  },
  {
   "cell_type": "code",
   "execution_count": 9,
   "id": "40dbca2a-b9e2-4416-a410-3827447e4aaf",
   "metadata": {},
   "outputs": [
    {
     "data": {
      "text/plain": [
       "3"
      ]
     },
     "execution_count": 9,
     "metadata": {},
     "output_type": "execute_result"
    }
   ],
   "source": [
    "len(movies['Industry'].value_counts())"
   ]
  },
  {
   "cell_type": "code",
   "execution_count": 10,
   "id": "beedc624-5827-407f-b1b2-b6520096849a",
   "metadata": {},
   "outputs": [
    {
     "data": {
      "text/plain": [
       "3"
      ]
     },
     "execution_count": 10,
     "metadata": {},
     "output_type": "execute_result"
    }
   ],
   "source": [
    "movies['Industry'].nunique()"
   ]
  },
  {
   "cell_type": "markdown",
   "id": "17ffa2c2-3d95-44a0-b629-a87df91a1bb8",
   "metadata": {},
   "source": [
    "# Find least liked comedy movies"
   ]
  },
  {
   "cell_type": "code",
   "execution_count": 11,
   "id": "1418afd8-54f8-4867-826f-9c99b8c20111",
   "metadata": {},
   "outputs": [
    {
     "data": {
      "text/plain": [
       "'Houseful'"
      ]
     },
     "execution_count": 11,
     "metadata": {},
     "output_type": "execute_result"
    }
   ],
   "source": [
    "movies['Name'][movies[movies['Genre']=='Comedy']['Rating'].idxmin()]"
   ]
  },
  {
   "cell_type": "markdown",
   "id": "286dd60a-3fd4-4bdc-806f-aca21477aac2",
   "metadata": {},
   "source": [
    "# Longest english movie name"
   ]
  },
  {
   "cell_type": "code",
   "execution_count": 12,
   "id": "acb4878e-1c68-40b1-a519-e8dfa20238cd",
   "metadata": {},
   "outputs": [
    {
     "data": {
      "text/plain": [
       "'Intersteller'"
      ]
     },
     "execution_count": 12,
     "metadata": {},
     "output_type": "execute_result"
    }
   ],
   "source": [
    "movies['Name'][movies[movies['Language']=='English']['Duration'].idxmax()]"
   ]
  },
  {
   "cell_type": "markdown",
   "id": "a184f12e-f746-4438-9251-53f0fea97fbc",
   "metadata": {},
   "source": [
    "# What is genre of intersteller"
   ]
  },
  {
   "cell_type": "code",
   "execution_count": 16,
   "id": "88d310f1-0b17-4945-a21d-d0783f85ee59",
   "metadata": {},
   "outputs": [
    {
     "data": {
      "text/plain": [
       "0                     bahubali\n",
       "1                   brahmastra\n",
       "2     uri- the surgical strike\n",
       "3                         ddlj\n",
       "4             avengers-endgame\n",
       "5                        tenet\n",
       "6                        major\n",
       "7                 intersteller\n",
       "8                      gravity\n",
       "9                      titanic\n",
       "10       yeh jawani hai divani\n",
       "11                    houseful\n",
       "12                the dictator\n",
       "13                  hera pheri\n",
       "14                      sholay\n",
       "Name: Name, dtype: object"
      ]
     },
     "execution_count": 16,
     "metadata": {},
     "output_type": "execute_result"
    }
   ],
   "source": [
    "movies['Name'].str.lower()"
   ]
  },
  {
   "cell_type": "code",
   "execution_count": 17,
   "id": "daa79994-e027-4ed6-807d-d004099266d6",
   "metadata": {},
   "outputs": [],
   "source": [
    "names=movies['Name']"
   ]
  },
  {
   "cell_type": "code",
   "execution_count": 18,
   "id": "6da96ae3-d066-481e-bf5d-8b07ce1828b4",
   "metadata": {},
   "outputs": [
    {
     "data": {
      "text/plain": [
       "['Bahubali',\n",
       " 'Brahmastra',\n",
       " 'Uri- The Surgical Strike',\n",
       " 'DDLJ',\n",
       " 'Avengers-Endgame',\n",
       " 'Tenet',\n",
       " 'Major',\n",
       " 'Intersteller',\n",
       " 'Gravity',\n",
       " 'Titanic',\n",
       " 'Yeh Jawani Hai Divani',\n",
       " 'Houseful',\n",
       " 'The Dictator',\n",
       " 'Hera Pheri',\n",
       " 'Sholay']"
      ]
     },
     "execution_count": 18,
     "metadata": {},
     "output_type": "execute_result"
    }
   ],
   "source": [
    "names.to_list()"
   ]
  },
  {
   "cell_type": "code",
   "execution_count": 21,
   "id": "ade533ff-a069-42fa-ba5f-505c901f6ea8",
   "metadata": {},
   "outputs": [
    {
     "data": {
      "text/plain": [
       "array(['Bahubali', 'Brahmastra', 'Uri- The Surgical Strike', 'DDLJ',\n",
       "       'Avengers-Endgame', 'Tenet', 'Major', 'Intersteller', 'Gravity',\n",
       "       'Titanic', 'Yeh Jawani Hai Divani', 'Houseful', 'The Dictator',\n",
       "       'Hera Pheri', 'Sholay'], dtype=object)"
      ]
     },
     "execution_count": 21,
     "metadata": {},
     "output_type": "execute_result"
    }
   ],
   "source": [
    "names.values"
   ]
  },
  {
   "cell_type": "code",
   "execution_count": 14,
   "id": "bb07bf59-3d5c-4d8c-878a-3b9a6eaeb358",
   "metadata": {},
   "outputs": [
    {
     "data": {
      "text/plain": [
       "'SciFi'"
      ]
     },
     "execution_count": 14,
     "metadata": {},
     "output_type": "execute_result"
    }
   ],
   "source": [
    "movies['Genre'][movies['Name']=='Intersteller'].values[0]"
   ]
  },
  {
   "cell_type": "code",
   "execution_count": 15,
   "id": "08c51b3a-2abf-4e88-bafb-da701a1f1262",
   "metadata": {},
   "outputs": [
    {
     "data": {
      "text/plain": [
       "'SciFi'"
      ]
     },
     "execution_count": 15,
     "metadata": {},
     "output_type": "execute_result"
    }
   ],
   "source": [
    "movies['Genre'][movies['Name'].str.lower()=='Intersteller'.lower()].values[0]"
   ]
  },
  {
   "cell_type": "code",
   "execution_count": 22,
   "id": "3fe498a2-a164-46ed-8612-a90f1c5574a7",
   "metadata": {
    "collapsed": true,
    "jupyter": {
     "outputs_hidden": true
    },
    "tags": []
   },
   "outputs": [
    {
     "data": {
      "text/plain": [
       "0                     bahubali\n",
       "1                   brahmastra\n",
       "2     uri- the surgical strike\n",
       "3                         ddlj\n",
       "4             avengers-endgame\n",
       "5                        tenet\n",
       "6                        major\n",
       "7                 intersteller\n",
       "8                      gravity\n",
       "9                      titanic\n",
       "10       yeh jawani hai divani\n",
       "11                    houseful\n",
       "12                the dictator\n",
       "13                  hera pheri\n",
       "14                      sholay\n",
       "Name: Name, dtype: object"
      ]
     },
     "execution_count": 22,
     "metadata": {},
     "output_type": "execute_result"
    }
   ],
   "source": [
    "names.str.casefold()"
   ]
  },
  {
   "cell_type": "code",
   "execution_count": 23,
   "id": "d811979d-9e5a-49b1-9db0-bf7884f4a9c9",
   "metadata": {
    "collapsed": true,
    "jupyter": {
     "outputs_hidden": true
    },
    "tags": []
   },
   "outputs": [
    {
     "data": {
      "text/plain": [
       "0     0\n",
       "1     0\n",
       "2     2\n",
       "3     0\n",
       "4     3\n",
       "5     2\n",
       "6     0\n",
       "7     3\n",
       "8     0\n",
       "9     0\n",
       "10    1\n",
       "11    1\n",
       "12    1\n",
       "13    2\n",
       "14    0\n",
       "Name: Name, dtype: int64"
      ]
     },
     "execution_count": 23,
     "metadata": {},
     "output_type": "execute_result"
    }
   ],
   "source": [
    "names.str.count('e')"
   ]
  },
  {
   "cell_type": "code",
   "execution_count": 24,
   "id": "9ac122f3-2f79-4c0c-8d97-1b11e21881cf",
   "metadata": {
    "collapsed": true,
    "jupyter": {
     "outputs_hidden": true
    },
    "tags": []
   },
   "outputs": [
    {
     "data": {
      "text/plain": [
       "0      True\n",
       "1     False\n",
       "2     False\n",
       "3     False\n",
       "4     False\n",
       "5     False\n",
       "6     False\n",
       "7     False\n",
       "8     False\n",
       "9     False\n",
       "10     True\n",
       "11    False\n",
       "12    False\n",
       "13     True\n",
       "14    False\n",
       "Name: Name, dtype: bool"
      ]
     },
     "execution_count": 24,
     "metadata": {},
     "output_type": "execute_result"
    }
   ],
   "source": [
    "names.str.endswith('i')"
   ]
  },
  {
   "cell_type": "code",
   "execution_count": 25,
   "id": "ba839a20-6200-4bc7-a28d-741efee57af8",
   "metadata": {
    "collapsed": true,
    "jupyter": {
     "outputs_hidden": true
    },
    "tags": []
   },
   "outputs": [
    {
     "data": {
      "text/plain": [
       "0    -1\n",
       "1    -1\n",
       "2     7\n",
       "3    -1\n",
       "4     2\n",
       "5     1\n",
       "6    -1\n",
       "7     3\n",
       "8    -1\n",
       "9    -1\n",
       "10    1\n",
       "11    4\n",
       "12    2\n",
       "13    1\n",
       "14   -1\n",
       "Name: Name, dtype: int64"
      ]
     },
     "execution_count": 25,
     "metadata": {},
     "output_type": "execute_result"
    }
   ],
   "source": [
    "names.str.find('e')"
   ]
  },
  {
   "cell_type": "code",
   "execution_count": 26,
   "id": "ff260cfd-0892-40af-9d4a-8d2a2fa85774",
   "metadata": {
    "collapsed": true,
    "jupyter": {
     "outputs_hidden": true
    },
    "tags": []
   },
   "outputs": [
    {
     "data": {
      "text/plain": [
       "0     l\n",
       "1     r\n",
       "2     k\n",
       "3     L\n",
       "4     m\n",
       "5     e\n",
       "6     o\n",
       "7     e\n",
       "8     t\n",
       "9     i\n",
       "10    n\n",
       "11    u\n",
       "12    o\n",
       "13    r\n",
       "14    a\n",
       "Name: Name, dtype: object"
      ]
     },
     "execution_count": 26,
     "metadata": {},
     "output_type": "execute_result"
    }
   ],
   "source": [
    "names.str.get(-2)"
   ]
  },
  {
   "cell_type": "code",
   "execution_count": 27,
   "id": "a60a55da-7918-4d7f-a500-bdcf62f386e0",
   "metadata": {
    "collapsed": true,
    "jupyter": {
     "outputs_hidden": true
    },
    "tags": []
   },
   "outputs": [
    {
     "data": {
      "text/html": [
       "<div>\n",
       "<style scoped>\n",
       "    .dataframe tbody tr th:only-of-type {\n",
       "        vertical-align: middle;\n",
       "    }\n",
       "\n",
       "    .dataframe tbody tr th {\n",
       "        vertical-align: top;\n",
       "    }\n",
       "\n",
       "    .dataframe thead th {\n",
       "        text-align: right;\n",
       "    }\n",
       "</style>\n",
       "<table border=\"1\" class=\"dataframe\">\n",
       "  <thead>\n",
       "    <tr style=\"text-align: right;\">\n",
       "      <th></th>\n",
       "      <th>Avengers-Endgame</th>\n",
       "      <th>Bahubali</th>\n",
       "      <th>Brahmastra</th>\n",
       "      <th>DDLJ</th>\n",
       "      <th>Gravity</th>\n",
       "      <th>Hera Pheri</th>\n",
       "      <th>Houseful</th>\n",
       "      <th>Intersteller</th>\n",
       "      <th>Major</th>\n",
       "      <th>Sholay</th>\n",
       "      <th>Tenet</th>\n",
       "      <th>The Dictator</th>\n",
       "      <th>Titanic</th>\n",
       "      <th>Uri- The Surgical Strike</th>\n",
       "      <th>Yeh Jawani Hai Divani</th>\n",
       "    </tr>\n",
       "  </thead>\n",
       "  <tbody>\n",
       "    <tr>\n",
       "      <th>0</th>\n",
       "      <td>0</td>\n",
       "      <td>1</td>\n",
       "      <td>0</td>\n",
       "      <td>0</td>\n",
       "      <td>0</td>\n",
       "      <td>0</td>\n",
       "      <td>0</td>\n",
       "      <td>0</td>\n",
       "      <td>0</td>\n",
       "      <td>0</td>\n",
       "      <td>0</td>\n",
       "      <td>0</td>\n",
       "      <td>0</td>\n",
       "      <td>0</td>\n",
       "      <td>0</td>\n",
       "    </tr>\n",
       "    <tr>\n",
       "      <th>1</th>\n",
       "      <td>0</td>\n",
       "      <td>0</td>\n",
       "      <td>1</td>\n",
       "      <td>0</td>\n",
       "      <td>0</td>\n",
       "      <td>0</td>\n",
       "      <td>0</td>\n",
       "      <td>0</td>\n",
       "      <td>0</td>\n",
       "      <td>0</td>\n",
       "      <td>0</td>\n",
       "      <td>0</td>\n",
       "      <td>0</td>\n",
       "      <td>0</td>\n",
       "      <td>0</td>\n",
       "    </tr>\n",
       "    <tr>\n",
       "      <th>2</th>\n",
       "      <td>0</td>\n",
       "      <td>0</td>\n",
       "      <td>0</td>\n",
       "      <td>0</td>\n",
       "      <td>0</td>\n",
       "      <td>0</td>\n",
       "      <td>0</td>\n",
       "      <td>0</td>\n",
       "      <td>0</td>\n",
       "      <td>0</td>\n",
       "      <td>0</td>\n",
       "      <td>0</td>\n",
       "      <td>0</td>\n",
       "      <td>1</td>\n",
       "      <td>0</td>\n",
       "    </tr>\n",
       "    <tr>\n",
       "      <th>3</th>\n",
       "      <td>0</td>\n",
       "      <td>0</td>\n",
       "      <td>0</td>\n",
       "      <td>1</td>\n",
       "      <td>0</td>\n",
       "      <td>0</td>\n",
       "      <td>0</td>\n",
       "      <td>0</td>\n",
       "      <td>0</td>\n",
       "      <td>0</td>\n",
       "      <td>0</td>\n",
       "      <td>0</td>\n",
       "      <td>0</td>\n",
       "      <td>0</td>\n",
       "      <td>0</td>\n",
       "    </tr>\n",
       "    <tr>\n",
       "      <th>4</th>\n",
       "      <td>1</td>\n",
       "      <td>0</td>\n",
       "      <td>0</td>\n",
       "      <td>0</td>\n",
       "      <td>0</td>\n",
       "      <td>0</td>\n",
       "      <td>0</td>\n",
       "      <td>0</td>\n",
       "      <td>0</td>\n",
       "      <td>0</td>\n",
       "      <td>0</td>\n",
       "      <td>0</td>\n",
       "      <td>0</td>\n",
       "      <td>0</td>\n",
       "      <td>0</td>\n",
       "    </tr>\n",
       "    <tr>\n",
       "      <th>5</th>\n",
       "      <td>0</td>\n",
       "      <td>0</td>\n",
       "      <td>0</td>\n",
       "      <td>0</td>\n",
       "      <td>0</td>\n",
       "      <td>0</td>\n",
       "      <td>0</td>\n",
       "      <td>0</td>\n",
       "      <td>0</td>\n",
       "      <td>0</td>\n",
       "      <td>1</td>\n",
       "      <td>0</td>\n",
       "      <td>0</td>\n",
       "      <td>0</td>\n",
       "      <td>0</td>\n",
       "    </tr>\n",
       "    <tr>\n",
       "      <th>6</th>\n",
       "      <td>0</td>\n",
       "      <td>0</td>\n",
       "      <td>0</td>\n",
       "      <td>0</td>\n",
       "      <td>0</td>\n",
       "      <td>0</td>\n",
       "      <td>0</td>\n",
       "      <td>0</td>\n",
       "      <td>1</td>\n",
       "      <td>0</td>\n",
       "      <td>0</td>\n",
       "      <td>0</td>\n",
       "      <td>0</td>\n",
       "      <td>0</td>\n",
       "      <td>0</td>\n",
       "    </tr>\n",
       "    <tr>\n",
       "      <th>7</th>\n",
       "      <td>0</td>\n",
       "      <td>0</td>\n",
       "      <td>0</td>\n",
       "      <td>0</td>\n",
       "      <td>0</td>\n",
       "      <td>0</td>\n",
       "      <td>0</td>\n",
       "      <td>1</td>\n",
       "      <td>0</td>\n",
       "      <td>0</td>\n",
       "      <td>0</td>\n",
       "      <td>0</td>\n",
       "      <td>0</td>\n",
       "      <td>0</td>\n",
       "      <td>0</td>\n",
       "    </tr>\n",
       "    <tr>\n",
       "      <th>8</th>\n",
       "      <td>0</td>\n",
       "      <td>0</td>\n",
       "      <td>0</td>\n",
       "      <td>0</td>\n",
       "      <td>1</td>\n",
       "      <td>0</td>\n",
       "      <td>0</td>\n",
       "      <td>0</td>\n",
       "      <td>0</td>\n",
       "      <td>0</td>\n",
       "      <td>0</td>\n",
       "      <td>0</td>\n",
       "      <td>0</td>\n",
       "      <td>0</td>\n",
       "      <td>0</td>\n",
       "    </tr>\n",
       "    <tr>\n",
       "      <th>9</th>\n",
       "      <td>0</td>\n",
       "      <td>0</td>\n",
       "      <td>0</td>\n",
       "      <td>0</td>\n",
       "      <td>0</td>\n",
       "      <td>0</td>\n",
       "      <td>0</td>\n",
       "      <td>0</td>\n",
       "      <td>0</td>\n",
       "      <td>0</td>\n",
       "      <td>0</td>\n",
       "      <td>0</td>\n",
       "      <td>1</td>\n",
       "      <td>0</td>\n",
       "      <td>0</td>\n",
       "    </tr>\n",
       "    <tr>\n",
       "      <th>10</th>\n",
       "      <td>0</td>\n",
       "      <td>0</td>\n",
       "      <td>0</td>\n",
       "      <td>0</td>\n",
       "      <td>0</td>\n",
       "      <td>0</td>\n",
       "      <td>0</td>\n",
       "      <td>0</td>\n",
       "      <td>0</td>\n",
       "      <td>0</td>\n",
       "      <td>0</td>\n",
       "      <td>0</td>\n",
       "      <td>0</td>\n",
       "      <td>0</td>\n",
       "      <td>1</td>\n",
       "    </tr>\n",
       "    <tr>\n",
       "      <th>11</th>\n",
       "      <td>0</td>\n",
       "      <td>0</td>\n",
       "      <td>0</td>\n",
       "      <td>0</td>\n",
       "      <td>0</td>\n",
       "      <td>0</td>\n",
       "      <td>1</td>\n",
       "      <td>0</td>\n",
       "      <td>0</td>\n",
       "      <td>0</td>\n",
       "      <td>0</td>\n",
       "      <td>0</td>\n",
       "      <td>0</td>\n",
       "      <td>0</td>\n",
       "      <td>0</td>\n",
       "    </tr>\n",
       "    <tr>\n",
       "      <th>12</th>\n",
       "      <td>0</td>\n",
       "      <td>0</td>\n",
       "      <td>0</td>\n",
       "      <td>0</td>\n",
       "      <td>0</td>\n",
       "      <td>0</td>\n",
       "      <td>0</td>\n",
       "      <td>0</td>\n",
       "      <td>0</td>\n",
       "      <td>0</td>\n",
       "      <td>0</td>\n",
       "      <td>1</td>\n",
       "      <td>0</td>\n",
       "      <td>0</td>\n",
       "      <td>0</td>\n",
       "    </tr>\n",
       "    <tr>\n",
       "      <th>13</th>\n",
       "      <td>0</td>\n",
       "      <td>0</td>\n",
       "      <td>0</td>\n",
       "      <td>0</td>\n",
       "      <td>0</td>\n",
       "      <td>1</td>\n",
       "      <td>0</td>\n",
       "      <td>0</td>\n",
       "      <td>0</td>\n",
       "      <td>0</td>\n",
       "      <td>0</td>\n",
       "      <td>0</td>\n",
       "      <td>0</td>\n",
       "      <td>0</td>\n",
       "      <td>0</td>\n",
       "    </tr>\n",
       "    <tr>\n",
       "      <th>14</th>\n",
       "      <td>0</td>\n",
       "      <td>0</td>\n",
       "      <td>0</td>\n",
       "      <td>0</td>\n",
       "      <td>0</td>\n",
       "      <td>0</td>\n",
       "      <td>0</td>\n",
       "      <td>0</td>\n",
       "      <td>0</td>\n",
       "      <td>1</td>\n",
       "      <td>0</td>\n",
       "      <td>0</td>\n",
       "      <td>0</td>\n",
       "      <td>0</td>\n",
       "      <td>0</td>\n",
       "    </tr>\n",
       "  </tbody>\n",
       "</table>\n",
       "</div>"
      ],
      "text/plain": [
       "    Avengers-Endgame  Bahubali  Brahmastra  DDLJ  Gravity  Hera Pheri  \\\n",
       "0                  0         1           0     0        0           0   \n",
       "1                  0         0           1     0        0           0   \n",
       "2                  0         0           0     0        0           0   \n",
       "3                  0         0           0     1        0           0   \n",
       "4                  1         0           0     0        0           0   \n",
       "5                  0         0           0     0        0           0   \n",
       "6                  0         0           0     0        0           0   \n",
       "7                  0         0           0     0        0           0   \n",
       "8                  0         0           0     0        1           0   \n",
       "9                  0         0           0     0        0           0   \n",
       "10                 0         0           0     0        0           0   \n",
       "11                 0         0           0     0        0           0   \n",
       "12                 0         0           0     0        0           0   \n",
       "13                 0         0           0     0        0           1   \n",
       "14                 0         0           0     0        0           0   \n",
       "\n",
       "    Houseful  Intersteller  Major  Sholay  Tenet  The Dictator  Titanic  \\\n",
       "0          0             0      0       0      0             0        0   \n",
       "1          0             0      0       0      0             0        0   \n",
       "2          0             0      0       0      0             0        0   \n",
       "3          0             0      0       0      0             0        0   \n",
       "4          0             0      0       0      0             0        0   \n",
       "5          0             0      0       0      1             0        0   \n",
       "6          0             0      1       0      0             0        0   \n",
       "7          0             1      0       0      0             0        0   \n",
       "8          0             0      0       0      0             0        0   \n",
       "9          0             0      0       0      0             0        1   \n",
       "10         0             0      0       0      0             0        0   \n",
       "11         1             0      0       0      0             0        0   \n",
       "12         0             0      0       0      0             1        0   \n",
       "13         0             0      0       0      0             0        0   \n",
       "14         0             0      0       1      0             0        0   \n",
       "\n",
       "    Uri- The Surgical Strike  Yeh Jawani Hai Divani  \n",
       "0                          0                      0  \n",
       "1                          0                      0  \n",
       "2                          1                      0  \n",
       "3                          0                      0  \n",
       "4                          0                      0  \n",
       "5                          0                      0  \n",
       "6                          0                      0  \n",
       "7                          0                      0  \n",
       "8                          0                      0  \n",
       "9                          0                      0  \n",
       "10                         0                      1  \n",
       "11                         0                      0  \n",
       "12                         0                      0  \n",
       "13                         0                      0  \n",
       "14                         0                      0  "
      ]
     },
     "execution_count": 27,
     "metadata": {},
     "output_type": "execute_result"
    }
   ],
   "source": [
    "names.str.get_dummies()"
   ]
  },
  {
   "cell_type": "code",
   "execution_count": 29,
   "id": "1deaa2a7-f206-4b12-9b92-42d1d28c9c6d",
   "metadata": {
    "collapsed": true,
    "jupyter": {
     "outputs_hidden": true
    },
    "tags": []
   },
   "outputs": [
    {
     "data": {
      "text/html": [
       "<div>\n",
       "<style scoped>\n",
       "    .dataframe tbody tr th:only-of-type {\n",
       "        vertical-align: middle;\n",
       "    }\n",
       "\n",
       "    .dataframe tbody tr th {\n",
       "        vertical-align: top;\n",
       "    }\n",
       "\n",
       "    .dataframe thead th {\n",
       "        text-align: right;\n",
       "    }\n",
       "</style>\n",
       "<table border=\"1\" class=\"dataframe\">\n",
       "  <thead>\n",
       "    <tr style=\"text-align: right;\">\n",
       "      <th></th>\n",
       "      <th>Action</th>\n",
       "      <th>Comedy</th>\n",
       "      <th>Drama</th>\n",
       "      <th>Mysterious</th>\n",
       "      <th>Romantic</th>\n",
       "      <th>SciFi</th>\n",
       "    </tr>\n",
       "  </thead>\n",
       "  <tbody>\n",
       "    <tr>\n",
       "      <th>0</th>\n",
       "      <td>1</td>\n",
       "      <td>0</td>\n",
       "      <td>0</td>\n",
       "      <td>0</td>\n",
       "      <td>0</td>\n",
       "      <td>0</td>\n",
       "    </tr>\n",
       "    <tr>\n",
       "      <th>1</th>\n",
       "      <td>0</td>\n",
       "      <td>0</td>\n",
       "      <td>0</td>\n",
       "      <td>1</td>\n",
       "      <td>0</td>\n",
       "      <td>0</td>\n",
       "    </tr>\n",
       "    <tr>\n",
       "      <th>2</th>\n",
       "      <td>1</td>\n",
       "      <td>0</td>\n",
       "      <td>0</td>\n",
       "      <td>0</td>\n",
       "      <td>0</td>\n",
       "      <td>0</td>\n",
       "    </tr>\n",
       "    <tr>\n",
       "      <th>3</th>\n",
       "      <td>0</td>\n",
       "      <td>0</td>\n",
       "      <td>0</td>\n",
       "      <td>0</td>\n",
       "      <td>1</td>\n",
       "      <td>0</td>\n",
       "    </tr>\n",
       "    <tr>\n",
       "      <th>4</th>\n",
       "      <td>1</td>\n",
       "      <td>0</td>\n",
       "      <td>0</td>\n",
       "      <td>0</td>\n",
       "      <td>0</td>\n",
       "      <td>0</td>\n",
       "    </tr>\n",
       "    <tr>\n",
       "      <th>5</th>\n",
       "      <td>0</td>\n",
       "      <td>0</td>\n",
       "      <td>0</td>\n",
       "      <td>0</td>\n",
       "      <td>0</td>\n",
       "      <td>1</td>\n",
       "    </tr>\n",
       "    <tr>\n",
       "      <th>6</th>\n",
       "      <td>1</td>\n",
       "      <td>0</td>\n",
       "      <td>0</td>\n",
       "      <td>0</td>\n",
       "      <td>0</td>\n",
       "      <td>0</td>\n",
       "    </tr>\n",
       "    <tr>\n",
       "      <th>7</th>\n",
       "      <td>0</td>\n",
       "      <td>0</td>\n",
       "      <td>0</td>\n",
       "      <td>0</td>\n",
       "      <td>0</td>\n",
       "      <td>1</td>\n",
       "    </tr>\n",
       "    <tr>\n",
       "      <th>8</th>\n",
       "      <td>0</td>\n",
       "      <td>0</td>\n",
       "      <td>0</td>\n",
       "      <td>0</td>\n",
       "      <td>0</td>\n",
       "      <td>1</td>\n",
       "    </tr>\n",
       "    <tr>\n",
       "      <th>9</th>\n",
       "      <td>0</td>\n",
       "      <td>0</td>\n",
       "      <td>1</td>\n",
       "      <td>0</td>\n",
       "      <td>0</td>\n",
       "      <td>0</td>\n",
       "    </tr>\n",
       "    <tr>\n",
       "      <th>10</th>\n",
       "      <td>0</td>\n",
       "      <td>0</td>\n",
       "      <td>0</td>\n",
       "      <td>0</td>\n",
       "      <td>1</td>\n",
       "      <td>0</td>\n",
       "    </tr>\n",
       "    <tr>\n",
       "      <th>11</th>\n",
       "      <td>0</td>\n",
       "      <td>1</td>\n",
       "      <td>0</td>\n",
       "      <td>0</td>\n",
       "      <td>0</td>\n",
       "      <td>0</td>\n",
       "    </tr>\n",
       "    <tr>\n",
       "      <th>12</th>\n",
       "      <td>0</td>\n",
       "      <td>1</td>\n",
       "      <td>0</td>\n",
       "      <td>0</td>\n",
       "      <td>0</td>\n",
       "      <td>0</td>\n",
       "    </tr>\n",
       "    <tr>\n",
       "      <th>13</th>\n",
       "      <td>0</td>\n",
       "      <td>1</td>\n",
       "      <td>0</td>\n",
       "      <td>0</td>\n",
       "      <td>0</td>\n",
       "      <td>0</td>\n",
       "    </tr>\n",
       "    <tr>\n",
       "      <th>14</th>\n",
       "      <td>0</td>\n",
       "      <td>0</td>\n",
       "      <td>1</td>\n",
       "      <td>0</td>\n",
       "      <td>0</td>\n",
       "      <td>0</td>\n",
       "    </tr>\n",
       "  </tbody>\n",
       "</table>\n",
       "</div>"
      ],
      "text/plain": [
       "    Action  Comedy  Drama  Mysterious  Romantic  SciFi\n",
       "0        1       0      0           0         0      0\n",
       "1        0       0      0           1         0      0\n",
       "2        1       0      0           0         0      0\n",
       "3        0       0      0           0         1      0\n",
       "4        1       0      0           0         0      0\n",
       "5        0       0      0           0         0      1\n",
       "6        1       0      0           0         0      0\n",
       "7        0       0      0           0         0      1\n",
       "8        0       0      0           0         0      1\n",
       "9        0       0      1           0         0      0\n",
       "10       0       0      0           0         1      0\n",
       "11       0       1      0           0         0      0\n",
       "12       0       1      0           0         0      0\n",
       "13       0       1      0           0         0      0\n",
       "14       0       0      1           0         0      0"
      ]
     },
     "execution_count": 29,
     "metadata": {},
     "output_type": "execute_result"
    }
   ],
   "source": [
    "movies['Genre'].str.get_dummies()"
   ]
  },
  {
   "cell_type": "code",
   "execution_count": 30,
   "id": "37975a4b-4197-45dc-927b-43b2c64089cd",
   "metadata": {},
   "outputs": [],
   "source": [
    "# names.str.index('e')"
   ]
  },
  {
   "cell_type": "code",
   "execution_count": 32,
   "id": "4adbe99c-8055-4e54-9a2e-27ce1f0944f8",
   "metadata": {
    "collapsed": true,
    "jupyter": {
     "outputs_hidden": true
    },
    "tags": []
   },
   "outputs": [
    {
     "data": {
      "text/plain": [
       "0                             Bahubali\n",
       "1                           Brahmastra\n",
       "2     Uri- Th--+-- Surgical Strik--+--\n",
       "3                                 DDLJ\n",
       "4         Av--+--ng--+--rs-Endgam--+--\n",
       "5                        T--+--n--+--t\n",
       "6                                Major\n",
       "7             Int--+--rst--+--ll--+--r\n",
       "8                              Gravity\n",
       "9                              Titanic\n",
       "10           Y--+--h Jawani Hai Divani\n",
       "11                        Hous--+--ful\n",
       "12                    Th--+-- Dictator\n",
       "13                  H--+--ra Ph--+--ri\n",
       "14                              Sholay\n",
       "Name: Name, dtype: object"
      ]
     },
     "execution_count": 32,
     "metadata": {},
     "output_type": "execute_result"
    }
   ],
   "source": [
    "names.str.split('e').str.join('--+--')"
   ]
  },
  {
   "cell_type": "code",
   "execution_count": 31,
   "id": "a89f2cf6-6af6-4333-b562-3fd1ae85d289",
   "metadata": {
    "collapsed": true,
    "jupyter": {
     "outputs_hidden": true
    },
    "tags": []
   },
   "outputs": [
    {
     "data": {
      "text/plain": [
       "0                                     B.a.h.u.b.a.l.i\n",
       "1                                 B.r.a.h.m.a.s.t.r.a\n",
       "2     U.r.i.-. .T.h.e. .S.u.r.g.i.c.a.l. .S.t.r.i.k.e\n",
       "3                                             D.D.L.J\n",
       "4                     A.v.e.n.g.e.r.s.-.E.n.d.g.a.m.e\n",
       "5                                           T.e.n.e.t\n",
       "6                                           M.a.j.o.r\n",
       "7                             I.n.t.e.r.s.t.e.l.l.e.r\n",
       "8                                       G.r.a.v.i.t.y\n",
       "9                                       T.i.t.a.n.i.c\n",
       "10          Y.e.h. .J.a.w.a.n.i. .H.a.i. .D.i.v.a.n.i\n",
       "11                                    H.o.u.s.e.f.u.l\n",
       "12                            T.h.e. .D.i.c.t.a.t.o.r\n",
       "13                                H.e.r.a. .P.h.e.r.i\n",
       "14                                        S.h.o.l.a.y\n",
       "Name: Name, dtype: object"
      ]
     },
     "execution_count": 31,
     "metadata": {},
     "output_type": "execute_result"
    }
   ],
   "source": [
    "names.str.join('.')"
   ]
  },
  {
   "cell_type": "code",
   "execution_count": 33,
   "id": "cd5f0007-3c83-4905-a7cc-301617c6bb65",
   "metadata": {
    "collapsed": true,
    "jupyter": {
     "outputs_hidden": true
    },
    "tags": []
   },
   "outputs": [
    {
     "data": {
      "text/plain": [
       "0                     bahubali\n",
       "1                   brahmastra\n",
       "2     uri- the surgical strike\n",
       "3                         ddlj\n",
       "4             avengers-endgame\n",
       "5                        tenet\n",
       "6                        major\n",
       "7                 intersteller\n",
       "8                      gravity\n",
       "9                      titanic\n",
       "10       yeh jawani hai divani\n",
       "11                    houseful\n",
       "12                the dictator\n",
       "13                  hera pheri\n",
       "14                      sholay\n",
       "Name: Name, dtype: object"
      ]
     },
     "execution_count": 33,
     "metadata": {},
     "output_type": "execute_result"
    }
   ],
   "source": [
    "names.str.lower()"
   ]
  },
  {
   "cell_type": "code",
   "execution_count": 34,
   "id": "c281920a-3039-4f16-a382-f5e1b94f5c7a",
   "metadata": {
    "collapsed": true,
    "jupyter": {
     "outputs_hidden": true
    },
    "tags": []
   },
   "outputs": [
    {
     "data": {
      "text/plain": [
       "0                     BAHUBALI\n",
       "1                   BRAHMASTRA\n",
       "2     URI- THE SURGICAL STRIKE\n",
       "3                         DDLJ\n",
       "4             AVENGERS-ENDGAME\n",
       "5                        TENET\n",
       "6                        MAJOR\n",
       "7                 INTERSTELLER\n",
       "8                      GRAVITY\n",
       "9                      TITANIC\n",
       "10       YEH JAWANI HAI DIVANI\n",
       "11                    HOUSEFUL\n",
       "12                THE DICTATOR\n",
       "13                  HERA PHERI\n",
       "14                      SHOLAY\n",
       "Name: Name, dtype: object"
      ]
     },
     "execution_count": 34,
     "metadata": {},
     "output_type": "execute_result"
    }
   ],
   "source": [
    "names.str.upper()"
   ]
  },
  {
   "cell_type": "code",
   "execution_count": 35,
   "id": "85deaa78-a540-41f8-ad7f-59ce25ff0660",
   "metadata": {
    "collapsed": true,
    "jupyter": {
     "outputs_hidden": true
    },
    "tags": []
   },
   "outputs": [
    {
     "data": {
      "text/plain": [
       "0                     Bahubali\n",
       "1                   Brahmastra\n",
       "2     Uri- The Surgical Strike\n",
       "3                         DDLJ\n",
       "4             Avengers-Endgame\n",
       "5                        Tenet\n",
       "6                        Major\n",
       "7                 Intersteller\n",
       "8                      Gravity\n",
       "9                      Titanic\n",
       "10       Yeh Jawani Hai Divani\n",
       "11                    Houseful\n",
       "12                The Dictator\n",
       "13                  Hera Pheri\n",
       "14                      Sholay\n",
       "Name: Name, dtype: object"
      ]
     },
     "execution_count": 35,
     "metadata": {},
     "output_type": "execute_result"
    }
   ],
   "source": [
    "names.str.strip()"
   ]
  },
  {
   "cell_type": "code",
   "execution_count": 36,
   "id": "1c784897-39af-4c20-bb14-805ee2e3d9b2",
   "metadata": {},
   "outputs": [
    {
     "data": {
      "text/plain": [
       "'SciFi'"
      ]
     },
     "execution_count": 36,
     "metadata": {},
     "output_type": "execute_result"
    }
   ],
   "source": [
    "movies['Genre'][movies['Name'].str.strip().str.lower()=='Intersteller'.lower()].values[0]"
   ]
  },
  {
   "cell_type": "markdown",
   "id": "c126796c-41be-4ed2-9380-8b7a107b9635",
   "metadata": {},
   "source": [
    "# What is the avg duration of each genre"
   ]
  },
  {
   "cell_type": "code",
   "execution_count": 37,
   "id": "1bc26606-8af2-43c5-aea3-59ac6d1cc986",
   "metadata": {},
   "outputs": [
    {
     "data": {
      "text/plain": [
       "array(['Action', 'Mysterious', 'Romantic', 'SciFi', 'Drama', 'Comedy'],\n",
       "      dtype=object)"
      ]
     },
     "execution_count": 37,
     "metadata": {},
     "output_type": "execute_result"
    }
   ],
   "source": [
    "movies['Genre'].unique()"
   ]
  },
  {
   "cell_type": "code",
   "execution_count": 38,
   "id": "17124b95-f303-4523-98d1-e2f23ecb90f4",
   "metadata": {},
   "outputs": [
    {
     "data": {
      "text/plain": [
       "6"
      ]
     },
     "execution_count": 38,
     "metadata": {},
     "output_type": "execute_result"
    }
   ],
   "source": [
    "movies['Genre'].nunique()"
   ]
  },
  {
   "cell_type": "code",
   "execution_count": 40,
   "id": "e1d4473b-0010-449a-877b-4f95a6397b90",
   "metadata": {},
   "outputs": [
    {
     "data": {
      "text/plain": [
       "Action        4\n",
       "SciFi         3\n",
       "Comedy        3\n",
       "Romantic      2\n",
       "Drama         2\n",
       "Mysterious    1\n",
       "Name: Genre, dtype: int64"
      ]
     },
     "execution_count": 40,
     "metadata": {},
     "output_type": "execute_result"
    }
   ],
   "source": [
    "movies['Genre'].value_counts()"
   ]
  },
  {
   "cell_type": "code",
   "execution_count": 41,
   "id": "8e982b0c-c1c6-4c02-9a11-933878216c1a",
   "metadata": {
    "collapsed": true,
    "jupyter": {
     "outputs_hidden": true
    },
    "tags": []
   },
   "outputs": [
    {
     "name": "stdout",
     "output_type": "stream",
     "text": [
      "Action 152.5\n",
      "Mysterious 180.0\n",
      "Romantic 150.0\n",
      "SciFi 156.66666666666666\n",
      "Drama 165.0\n",
      "Comedy 136.66666666666666\n"
     ]
    }
   ],
   "source": [
    "for Genre in movies['Genre'].unique():\n",
    "    print(Genre,movies[movies['Genre']==Genre]['Duration'].mean())"
   ]
  },
  {
   "cell_type": "code",
   "execution_count": 46,
   "id": "9330e74c-3d21-495e-804b-f35d814b9b1d",
   "metadata": {
    "collapsed": true,
    "jupyter": {
     "outputs_hidden": true
    },
    "tags": []
   },
   "outputs": [
    {
     "data": {
      "text/plain": [
       "Genre       Industry \n",
       "Action      Bollywood    130.000000\n",
       "            Hollywood    180.000000\n",
       "            Tollywood    170.000000\n",
       "Comedy      Bollywood    145.000000\n",
       "            Hollywood    120.000000\n",
       "Drama       Bollywood    150.000000\n",
       "            Hollywood    180.000000\n",
       "Mysterious  Bollywood    180.000000\n",
       "Romantic    Bollywood    150.000000\n",
       "SciFi       Hollywood    156.666667\n",
       "Name: Duration, dtype: float64"
      ]
     },
     "execution_count": 46,
     "metadata": {},
     "output_type": "execute_result"
    }
   ],
   "source": [
    "movies.groupby(['Genre','Industry'])['Duration'].mean()"
   ]
  },
  {
   "cell_type": "code",
   "execution_count": 47,
   "id": "980c441a-4d31-4ecd-9838-93b1ca963b65",
   "metadata": {
    "collapsed": true,
    "jupyter": {
     "outputs_hidden": true
    },
    "tags": []
   },
   "outputs": [
    {
     "data": {
      "text/plain": [
       "Industry   Genre     \n",
       "Bollywood  Action        130.000000\n",
       "           Comedy        145.000000\n",
       "           Drama         150.000000\n",
       "           Mysterious    180.000000\n",
       "           Romantic      150.000000\n",
       "Hollywood  Action        180.000000\n",
       "           Comedy        120.000000\n",
       "           Drama         180.000000\n",
       "           SciFi         156.666667\n",
       "Tollywood  Action        170.000000\n",
       "Name: Duration, dtype: float64"
      ]
     },
     "execution_count": 47,
     "metadata": {},
     "output_type": "execute_result"
    }
   ],
   "source": [
    "movies.groupby(['Industry','Genre'])['Duration'].mean()"
   ]
  },
  {
   "cell_type": "code",
   "execution_count": 61,
   "id": "ede09b01-bfb6-42ae-86d7-760de414eb5c",
   "metadata": {
    "collapsed": true,
    "jupyter": {
     "outputs_hidden": true
    },
    "tags": []
   },
   "outputs": [
    {
     "name": "stdout",
     "output_type": "stream",
     "text": [
      "<class 'pandas.core.frame.DataFrame'>\n",
      "Int64Index: 15 entries, 1 to 15\n",
      "Data columns (total 6 columns):\n",
      " #   Column    Non-Null Count  Dtype  \n",
      "---  ------    --------------  -----  \n",
      " 0   Name      15 non-null     object \n",
      " 1   Industry  15 non-null     object \n",
      " 2   Genre     15 non-null     object \n",
      " 3   Language  15 non-null     object \n",
      " 4   Duration  15 non-null     int64  \n",
      " 5   Rating    15 non-null     float64\n",
      "dtypes: float64(1), int64(1), object(4)\n",
      "memory usage: 840.0+ bytes\n"
     ]
    }
   ],
   "source": [
    "movies.info()"
   ]
  },
  {
   "cell_type": "code",
   "execution_count": 60,
   "id": "657bf39f-cc53-4d3b-b8a2-df174d5cd115",
   "metadata": {
    "collapsed": true,
    "jupyter": {
     "outputs_hidden": true
    },
    "tags": []
   },
   "outputs": [
    {
     "data": {
      "text/html": [
       "<div>\n",
       "<style scoped>\n",
       "    .dataframe tbody tr th:only-of-type {\n",
       "        vertical-align: middle;\n",
       "    }\n",
       "\n",
       "    .dataframe tbody tr th {\n",
       "        vertical-align: top;\n",
       "    }\n",
       "\n",
       "    .dataframe thead th {\n",
       "        text-align: right;\n",
       "    }\n",
       "</style>\n",
       "<table border=\"1\" class=\"dataframe\">\n",
       "  <thead>\n",
       "    <tr style=\"text-align: right;\">\n",
       "      <th></th>\n",
       "      <th>Name</th>\n",
       "      <th>Industry</th>\n",
       "      <th>Genre</th>\n",
       "      <th>Language</th>\n",
       "      <th>Duration</th>\n",
       "      <th>Rating</th>\n",
       "    </tr>\n",
       "  </thead>\n",
       "  <tbody>\n",
       "    <tr>\n",
       "      <th>count</th>\n",
       "      <td>15</td>\n",
       "      <td>15</td>\n",
       "      <td>15</td>\n",
       "      <td>15</td>\n",
       "      <td>15.000000</td>\n",
       "      <td>15.000000</td>\n",
       "    </tr>\n",
       "    <tr>\n",
       "      <th>unique</th>\n",
       "      <td>15</td>\n",
       "      <td>3</td>\n",
       "      <td>6</td>\n",
       "      <td>3</td>\n",
       "      <td>NaN</td>\n",
       "      <td>NaN</td>\n",
       "    </tr>\n",
       "    <tr>\n",
       "      <th>top</th>\n",
       "      <td>Bahubali</td>\n",
       "      <td>Bollywood</td>\n",
       "      <td>Action</td>\n",
       "      <td>Hindi</td>\n",
       "      <td>NaN</td>\n",
       "      <td>NaN</td>\n",
       "    </tr>\n",
       "    <tr>\n",
       "      <th>freq</th>\n",
       "      <td>1</td>\n",
       "      <td>8</td>\n",
       "      <td>4</td>\n",
       "      <td>8</td>\n",
       "      <td>NaN</td>\n",
       "      <td>NaN</td>\n",
       "    </tr>\n",
       "    <tr>\n",
       "      <th>mean</th>\n",
       "      <td>NaN</td>\n",
       "      <td>NaN</td>\n",
       "      <td>NaN</td>\n",
       "      <td>NaN</td>\n",
       "      <td>153.333333</td>\n",
       "      <td>7.833333</td>\n",
       "    </tr>\n",
       "    <tr>\n",
       "      <th>std</th>\n",
       "      <td>NaN</td>\n",
       "      <td>NaN</td>\n",
       "      <td>NaN</td>\n",
       "      <td>NaN</td>\n",
       "      <td>22.253946</td>\n",
       "      <td>1.718249</td>\n",
       "    </tr>\n",
       "    <tr>\n",
       "      <th>min</th>\n",
       "      <td>NaN</td>\n",
       "      <td>NaN</td>\n",
       "      <td>NaN</td>\n",
       "      <td>NaN</td>\n",
       "      <td>120.000000</td>\n",
       "      <td>5.000000</td>\n",
       "    </tr>\n",
       "    <tr>\n",
       "      <th>25%</th>\n",
       "      <td>NaN</td>\n",
       "      <td>NaN</td>\n",
       "      <td>NaN</td>\n",
       "      <td>NaN</td>\n",
       "      <td>140.000000</td>\n",
       "      <td>6.500000</td>\n",
       "    </tr>\n",
       "    <tr>\n",
       "      <th>50%</th>\n",
       "      <td>NaN</td>\n",
       "      <td>NaN</td>\n",
       "      <td>NaN</td>\n",
       "      <td>NaN</td>\n",
       "      <td>150.000000</td>\n",
       "      <td>8.500000</td>\n",
       "    </tr>\n",
       "    <tr>\n",
       "      <th>75%</th>\n",
       "      <td>NaN</td>\n",
       "      <td>NaN</td>\n",
       "      <td>NaN</td>\n",
       "      <td>NaN</td>\n",
       "      <td>175.000000</td>\n",
       "      <td>9.000000</td>\n",
       "    </tr>\n",
       "    <tr>\n",
       "      <th>max</th>\n",
       "      <td>NaN</td>\n",
       "      <td>NaN</td>\n",
       "      <td>NaN</td>\n",
       "      <td>NaN</td>\n",
       "      <td>190.000000</td>\n",
       "      <td>10.000000</td>\n",
       "    </tr>\n",
       "  </tbody>\n",
       "</table>\n",
       "</div>"
      ],
      "text/plain": [
       "            Name   Industry   Genre Language    Duration     Rating\n",
       "count         15         15      15       15   15.000000  15.000000\n",
       "unique        15          3       6        3         NaN        NaN\n",
       "top     Bahubali  Bollywood  Action    Hindi         NaN        NaN\n",
       "freq           1          8       4        8         NaN        NaN\n",
       "mean         NaN        NaN     NaN      NaN  153.333333   7.833333\n",
       "std          NaN        NaN     NaN      NaN   22.253946   1.718249\n",
       "min          NaN        NaN     NaN      NaN  120.000000   5.000000\n",
       "25%          NaN        NaN     NaN      NaN  140.000000   6.500000\n",
       "50%          NaN        NaN     NaN      NaN  150.000000   8.500000\n",
       "75%          NaN        NaN     NaN      NaN  175.000000   9.000000\n",
       "max          NaN        NaN     NaN      NaN  190.000000  10.000000"
      ]
     },
     "execution_count": 60,
     "metadata": {},
     "output_type": "execute_result"
    }
   ],
   "source": [
    "movies.describe(include='all')"
   ]
  },
  {
   "cell_type": "code",
   "execution_count": 56,
   "id": "e94148a5-f50d-4b1f-8246-dae0b261681d",
   "metadata": {},
   "outputs": [],
   "source": [
    "#movies.drop(['ID'],axis=1,inplace=True)"
   ]
  },
  {
   "cell_type": "code",
   "execution_count": 57,
   "id": "e628ec76-3193-40a2-a796-d73b45207146",
   "metadata": {},
   "outputs": [],
   "source": [
    "#movies.head()"
   ]
  },
  {
   "cell_type": "code",
   "execution_count": 65,
   "id": "c4d5da5d-86f6-4b9a-b59d-e299ff4f9642",
   "metadata": {
    "collapsed": true,
    "jupyter": {
     "outputs_hidden": true
    },
    "tags": []
   },
   "outputs": [
    {
     "data": {
      "text/html": [
       "<div>\n",
       "<style scoped>\n",
       "    .dataframe tbody tr th:only-of-type {\n",
       "        vertical-align: middle;\n",
       "    }\n",
       "\n",
       "    .dataframe tbody tr th {\n",
       "        vertical-align: top;\n",
       "    }\n",
       "\n",
       "    .dataframe thead tr th {\n",
       "        text-align: left;\n",
       "    }\n",
       "</style>\n",
       "<table border=\"1\" class=\"dataframe\">\n",
       "  <thead>\n",
       "    <tr>\n",
       "      <th></th>\n",
       "      <th>Industry</th>\n",
       "      <th colspan=\"5\" halign=\"left\">Bollywood</th>\n",
       "      <th colspan=\"4\" halign=\"left\">Hollywood</th>\n",
       "      <th>Tollywood</th>\n",
       "    </tr>\n",
       "    <tr>\n",
       "      <th></th>\n",
       "      <th>Genre</th>\n",
       "      <th>Action</th>\n",
       "      <th>Comedy</th>\n",
       "      <th>Drama</th>\n",
       "      <th>Mysterious</th>\n",
       "      <th>Romantic</th>\n",
       "      <th>Action</th>\n",
       "      <th>Comedy</th>\n",
       "      <th>Drama</th>\n",
       "      <th>SciFi</th>\n",
       "      <th>Action</th>\n",
       "    </tr>\n",
       "  </thead>\n",
       "  <tbody>\n",
       "    <tr>\n",
       "      <th rowspan=\"8\" valign=\"top\">Duration</th>\n",
       "      <th>count</th>\n",
       "      <td>2.000000</td>\n",
       "      <td>2.000000</td>\n",
       "      <td>1.0</td>\n",
       "      <td>1.0</td>\n",
       "      <td>2.000000</td>\n",
       "      <td>1.0</td>\n",
       "      <td>1.0</td>\n",
       "      <td>1.0</td>\n",
       "      <td>3.000000</td>\n",
       "      <td>1.0</td>\n",
       "    </tr>\n",
       "    <tr>\n",
       "      <th>mean</th>\n",
       "      <td>130.000000</td>\n",
       "      <td>145.000000</td>\n",
       "      <td>150.0</td>\n",
       "      <td>180.0</td>\n",
       "      <td>150.000000</td>\n",
       "      <td>180.0</td>\n",
       "      <td>120.0</td>\n",
       "      <td>180.0</td>\n",
       "      <td>156.666667</td>\n",
       "      <td>170.0</td>\n",
       "    </tr>\n",
       "    <tr>\n",
       "      <th>std</th>\n",
       "      <td>14.142136</td>\n",
       "      <td>7.071068</td>\n",
       "      <td>NaN</td>\n",
       "      <td>NaN</td>\n",
       "      <td>0.000000</td>\n",
       "      <td>NaN</td>\n",
       "      <td>NaN</td>\n",
       "      <td>NaN</td>\n",
       "      <td>30.550505</td>\n",
       "      <td>NaN</td>\n",
       "    </tr>\n",
       "    <tr>\n",
       "      <th>min</th>\n",
       "      <td>120.000000</td>\n",
       "      <td>140.000000</td>\n",
       "      <td>150.0</td>\n",
       "      <td>180.0</td>\n",
       "      <td>150.000000</td>\n",
       "      <td>180.0</td>\n",
       "      <td>120.0</td>\n",
       "      <td>180.0</td>\n",
       "      <td>130.000000</td>\n",
       "      <td>170.0</td>\n",
       "    </tr>\n",
       "    <tr>\n",
       "      <th>25%</th>\n",
       "      <td>125.000000</td>\n",
       "      <td>142.500000</td>\n",
       "      <td>150.0</td>\n",
       "      <td>180.0</td>\n",
       "      <td>150.000000</td>\n",
       "      <td>180.0</td>\n",
       "      <td>120.0</td>\n",
       "      <td>180.0</td>\n",
       "      <td>140.000000</td>\n",
       "      <td>170.0</td>\n",
       "    </tr>\n",
       "    <tr>\n",
       "      <th>50%</th>\n",
       "      <td>130.000000</td>\n",
       "      <td>145.000000</td>\n",
       "      <td>150.0</td>\n",
       "      <td>180.0</td>\n",
       "      <td>150.000000</td>\n",
       "      <td>180.0</td>\n",
       "      <td>120.0</td>\n",
       "      <td>180.0</td>\n",
       "      <td>150.000000</td>\n",
       "      <td>170.0</td>\n",
       "    </tr>\n",
       "    <tr>\n",
       "      <th>75%</th>\n",
       "      <td>135.000000</td>\n",
       "      <td>147.500000</td>\n",
       "      <td>150.0</td>\n",
       "      <td>180.0</td>\n",
       "      <td>150.000000</td>\n",
       "      <td>180.0</td>\n",
       "      <td>120.0</td>\n",
       "      <td>180.0</td>\n",
       "      <td>170.000000</td>\n",
       "      <td>170.0</td>\n",
       "    </tr>\n",
       "    <tr>\n",
       "      <th>max</th>\n",
       "      <td>140.000000</td>\n",
       "      <td>150.000000</td>\n",
       "      <td>150.0</td>\n",
       "      <td>180.0</td>\n",
       "      <td>150.000000</td>\n",
       "      <td>180.0</td>\n",
       "      <td>120.0</td>\n",
       "      <td>180.0</td>\n",
       "      <td>190.000000</td>\n",
       "      <td>170.0</td>\n",
       "    </tr>\n",
       "    <tr>\n",
       "      <th rowspan=\"8\" valign=\"top\">Rating</th>\n",
       "      <th>count</th>\n",
       "      <td>2.000000</td>\n",
       "      <td>2.000000</td>\n",
       "      <td>1.0</td>\n",
       "      <td>1.0</td>\n",
       "      <td>2.000000</td>\n",
       "      <td>1.0</td>\n",
       "      <td>1.0</td>\n",
       "      <td>1.0</td>\n",
       "      <td>3.000000</td>\n",
       "      <td>1.0</td>\n",
       "    </tr>\n",
       "    <tr>\n",
       "      <th>mean</th>\n",
       "      <td>9.000000</td>\n",
       "      <td>7.500000</td>\n",
       "      <td>8.5</td>\n",
       "      <td>5.0</td>\n",
       "      <td>7.500000</td>\n",
       "      <td>9.0</td>\n",
       "      <td>7.0</td>\n",
       "      <td>9.0</td>\n",
       "      <td>7.166667</td>\n",
       "      <td>9.5</td>\n",
       "    </tr>\n",
       "    <tr>\n",
       "      <th>std</th>\n",
       "      <td>1.414214</td>\n",
       "      <td>2.121320</td>\n",
       "      <td>NaN</td>\n",
       "      <td>NaN</td>\n",
       "      <td>3.535534</td>\n",
       "      <td>NaN</td>\n",
       "      <td>NaN</td>\n",
       "      <td>NaN</td>\n",
       "      <td>1.258306</td>\n",
       "      <td>NaN</td>\n",
       "    </tr>\n",
       "    <tr>\n",
       "      <th>min</th>\n",
       "      <td>8.000000</td>\n",
       "      <td>6.000000</td>\n",
       "      <td>8.5</td>\n",
       "      <td>5.0</td>\n",
       "      <td>5.000000</td>\n",
       "      <td>9.0</td>\n",
       "      <td>7.0</td>\n",
       "      <td>9.0</td>\n",
       "      <td>6.000000</td>\n",
       "      <td>9.5</td>\n",
       "    </tr>\n",
       "    <tr>\n",
       "      <th>25%</th>\n",
       "      <td>8.500000</td>\n",
       "      <td>6.750000</td>\n",
       "      <td>8.5</td>\n",
       "      <td>5.0</td>\n",
       "      <td>6.250000</td>\n",
       "      <td>9.0</td>\n",
       "      <td>7.0</td>\n",
       "      <td>9.0</td>\n",
       "      <td>6.500000</td>\n",
       "      <td>9.5</td>\n",
       "    </tr>\n",
       "    <tr>\n",
       "      <th>50%</th>\n",
       "      <td>9.000000</td>\n",
       "      <td>7.500000</td>\n",
       "      <td>8.5</td>\n",
       "      <td>5.0</td>\n",
       "      <td>7.500000</td>\n",
       "      <td>9.0</td>\n",
       "      <td>7.0</td>\n",
       "      <td>9.0</td>\n",
       "      <td>7.000000</td>\n",
       "      <td>9.5</td>\n",
       "    </tr>\n",
       "    <tr>\n",
       "      <th>75%</th>\n",
       "      <td>9.500000</td>\n",
       "      <td>8.250000</td>\n",
       "      <td>8.5</td>\n",
       "      <td>5.0</td>\n",
       "      <td>8.750000</td>\n",
       "      <td>9.0</td>\n",
       "      <td>7.0</td>\n",
       "      <td>9.0</td>\n",
       "      <td>7.750000</td>\n",
       "      <td>9.5</td>\n",
       "    </tr>\n",
       "    <tr>\n",
       "      <th>max</th>\n",
       "      <td>10.000000</td>\n",
       "      <td>9.000000</td>\n",
       "      <td>8.5</td>\n",
       "      <td>5.0</td>\n",
       "      <td>10.000000</td>\n",
       "      <td>9.0</td>\n",
       "      <td>7.0</td>\n",
       "      <td>9.0</td>\n",
       "      <td>8.500000</td>\n",
       "      <td>9.5</td>\n",
       "    </tr>\n",
       "  </tbody>\n",
       "</table>\n",
       "</div>"
      ],
      "text/plain": [
       "Industry         Bollywood                                            \\\n",
       "Genre               Action      Comedy  Drama Mysterious    Romantic   \n",
       "Duration count    2.000000    2.000000    1.0        1.0    2.000000   \n",
       "         mean   130.000000  145.000000  150.0      180.0  150.000000   \n",
       "         std     14.142136    7.071068    NaN        NaN    0.000000   \n",
       "         min    120.000000  140.000000  150.0      180.0  150.000000   \n",
       "         25%    125.000000  142.500000  150.0      180.0  150.000000   \n",
       "         50%    130.000000  145.000000  150.0      180.0  150.000000   \n",
       "         75%    135.000000  147.500000  150.0      180.0  150.000000   \n",
       "         max    140.000000  150.000000  150.0      180.0  150.000000   \n",
       "Rating   count    2.000000    2.000000    1.0        1.0    2.000000   \n",
       "         mean     9.000000    7.500000    8.5        5.0    7.500000   \n",
       "         std      1.414214    2.121320    NaN        NaN    3.535534   \n",
       "         min      8.000000    6.000000    8.5        5.0    5.000000   \n",
       "         25%      8.500000    6.750000    8.5        5.0    6.250000   \n",
       "         50%      9.000000    7.500000    8.5        5.0    7.500000   \n",
       "         75%      9.500000    8.250000    8.5        5.0    8.750000   \n",
       "         max     10.000000    9.000000    8.5        5.0   10.000000   \n",
       "\n",
       "Industry       Hollywood                           Tollywood  \n",
       "Genre             Action Comedy  Drama       SciFi    Action  \n",
       "Duration count       1.0    1.0    1.0    3.000000       1.0  \n",
       "         mean      180.0  120.0  180.0  156.666667     170.0  \n",
       "         std         NaN    NaN    NaN   30.550505       NaN  \n",
       "         min       180.0  120.0  180.0  130.000000     170.0  \n",
       "         25%       180.0  120.0  180.0  140.000000     170.0  \n",
       "         50%       180.0  120.0  180.0  150.000000     170.0  \n",
       "         75%       180.0  120.0  180.0  170.000000     170.0  \n",
       "         max       180.0  120.0  180.0  190.000000     170.0  \n",
       "Rating   count       1.0    1.0    1.0    3.000000       1.0  \n",
       "         mean        9.0    7.0    9.0    7.166667       9.5  \n",
       "         std         NaN    NaN    NaN    1.258306       NaN  \n",
       "         min         9.0    7.0    9.0    6.000000       9.5  \n",
       "         25%         9.0    7.0    9.0    6.500000       9.5  \n",
       "         50%         9.0    7.0    9.0    7.000000       9.5  \n",
       "         75%         9.0    7.0    9.0    7.750000       9.5  \n",
       "         max         9.0    7.0    9.0    8.500000       9.5  "
      ]
     },
     "execution_count": 65,
     "metadata": {},
     "output_type": "execute_result"
    }
   ],
   "source": [
    "movies.groupby(['Industry','Genre']).describe().T"
   ]
  },
  {
   "cell_type": "markdown",
   "id": "6c07908d-2d3c-4c16-be02-4cde26527470",
   "metadata": {},
   "source": [
    "# What is the avg rating of each industry"
   ]
  },
  {
   "cell_type": "code",
   "execution_count": 69,
   "id": "5a63610e-25e6-4065-ad8e-64be2dfc6412",
   "metadata": {},
   "outputs": [
    {
     "data": {
      "text/plain": [
       "Industry\n",
       "Bollywood    7.6875\n",
       "Hollywood    7.7500\n",
       "Tollywood    9.5000\n",
       "Name: Rating, dtype: float64"
      ]
     },
     "execution_count": 69,
     "metadata": {},
     "output_type": "execute_result"
    }
   ],
   "source": [
    "movies.groupby('Industry')['Rating'].mean()"
   ]
  },
  {
   "cell_type": "markdown",
   "id": "c3fe7572-ca47-4472-90d2-a19fa5ab63d0",
   "metadata": {},
   "source": [
    "# Avg rating of romantic movies industry wise"
   ]
  },
  {
   "cell_type": "code",
   "execution_count": 70,
   "id": "b5517e23-caab-4d66-bec5-4cc9146e1382",
   "metadata": {},
   "outputs": [
    {
     "data": {
      "text/plain": [
       "Industry\n",
       "Bollywood    7.5\n",
       "Name: Rating, dtype: float64"
      ]
     },
     "execution_count": 70,
     "metadata": {},
     "output_type": "execute_result"
    }
   ],
   "source": [
    "movies[movies['Genre'].str.lower()=='romantic'].groupby('Industry')['Rating'].mean()"
   ]
  },
  {
   "cell_type": "markdown",
   "id": "9f9ab2ad-9115-420c-8d5d-966ff514be07",
   "metadata": {},
   "source": [
    "# list down all the english movies with their respective rating in decending order"
   ]
  },
  {
   "cell_type": "code",
   "execution_count": 72,
   "id": "129e2436-5642-4a26-ae2b-6425751e9801",
   "metadata": {},
   "outputs": [
    {
     "data": {
      "text/html": [
       "<div>\n",
       "<style scoped>\n",
       "    .dataframe tbody tr th:only-of-type {\n",
       "        vertical-align: middle;\n",
       "    }\n",
       "\n",
       "    .dataframe tbody tr th {\n",
       "        vertical-align: top;\n",
       "    }\n",
       "\n",
       "    .dataframe thead th {\n",
       "        text-align: right;\n",
       "    }\n",
       "</style>\n",
       "<table border=\"1\" class=\"dataframe\">\n",
       "  <thead>\n",
       "    <tr style=\"text-align: right;\">\n",
       "      <th></th>\n",
       "      <th>Name</th>\n",
       "      <th>Rating</th>\n",
       "    </tr>\n",
       "    <tr>\n",
       "      <th>ID</th>\n",
       "      <th></th>\n",
       "      <th></th>\n",
       "    </tr>\n",
       "  </thead>\n",
       "  <tbody>\n",
       "    <tr>\n",
       "      <th>5</th>\n",
       "      <td>Avengers-Endgame</td>\n",
       "      <td>9.0</td>\n",
       "    </tr>\n",
       "    <tr>\n",
       "      <th>10</th>\n",
       "      <td>Titanic</td>\n",
       "      <td>9.0</td>\n",
       "    </tr>\n",
       "    <tr>\n",
       "      <th>6</th>\n",
       "      <td>Tenet</td>\n",
       "      <td>8.5</td>\n",
       "    </tr>\n",
       "    <tr>\n",
       "      <th>8</th>\n",
       "      <td>Intersteller</td>\n",
       "      <td>7.0</td>\n",
       "    </tr>\n",
       "    <tr>\n",
       "      <th>13</th>\n",
       "      <td>The Dictator</td>\n",
       "      <td>7.0</td>\n",
       "    </tr>\n",
       "    <tr>\n",
       "      <th>9</th>\n",
       "      <td>Gravity</td>\n",
       "      <td>6.0</td>\n",
       "    </tr>\n",
       "  </tbody>\n",
       "</table>\n",
       "</div>"
      ],
      "text/plain": [
       "                Name  Rating\n",
       "ID                          \n",
       "5   Avengers-Endgame     9.0\n",
       "10           Titanic     9.0\n",
       "6              Tenet     8.5\n",
       "8       Intersteller     7.0\n",
       "13      The Dictator     7.0\n",
       "9            Gravity     6.0"
      ]
     },
     "execution_count": 72,
     "metadata": {},
     "output_type": "execute_result"
    }
   ],
   "source": [
    "movies[movies['Language'].str.lower()=='english'][['Name','Rating']].sort_values(by='Rating',ascending=False)"
   ]
  },
  {
   "cell_type": "code",
   "execution_count": null,
   "id": "f99aec6c-395c-4c12-b252-b91c93be3591",
   "metadata": {},
   "outputs": [],
   "source": []
  }
 ],
 "metadata": {
  "kernelspec": {
   "display_name": "Python 3 (ipykernel)",
   "language": "python",
   "name": "python3"
  },
  "language_info": {
   "codemirror_mode": {
    "name": "ipython",
    "version": 3
   },
   "file_extension": ".py",
   "mimetype": "text/x-python",
   "name": "python",
   "nbconvert_exporter": "python",
   "pygments_lexer": "ipython3",
   "version": "3.9.12"
  }
 },
 "nbformat": 4,
 "nbformat_minor": 5
}
